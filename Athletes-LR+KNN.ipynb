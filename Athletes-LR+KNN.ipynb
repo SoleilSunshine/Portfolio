{
 "cells": [
  {
   "cell_type": "markdown",
   "metadata": {
    "collapsed": true
   },
   "source": [
    "# Athletes Dataset\n"
   ]
  },
  {
   "cell_type": "markdown",
   "metadata": {},
   "source": [
    "This dataset describes 10,383 athletes and their features, including their age, height, weight, country, sex, medals they have won, and the sport they play.\n",
    "\n",
    "***Problem:*** *Predict what sport each athlete specializes in using specific features (age, height, weight).* <br><br><br>\n",
    "\n",
    "***Data***"
   ]
  },
  {
   "cell_type": "code",
   "execution_count": 42,
   "metadata": {
    "collapsed": true
   },
   "outputs": [],
   "source": [
    "import numpy as np\n",
    "import pandas as pd\n",
    "\n",
    "from sklearn.neighbors import NearestNeighbors\n",
    "from sklearn.neighbors import KNeighborsClassifier\n",
    "from sklearn import preprocessing\n",
    "\n",
    "from matplotlib import pyplot as plt\n",
    "%matplotlib inline"
   ]
  },
  {
   "cell_type": "code",
   "execution_count": 43,
   "metadata": {
    "collapsed": false
   },
   "outputs": [
    {
     "data": {
      "text/html": [
       "<div>\n",
       "<table border=\"1\" class=\"dataframe\">\n",
       "  <thead>\n",
       "    <tr style=\"text-align: right;\">\n",
       "      <th></th>\n",
       "      <th>name</th>\n",
       "      <th>sport</th>\n",
       "      <th>age</th>\n",
       "      <th>height</th>\n",
       "      <th>weight</th>\n",
       "      <th>country</th>\n",
       "      <th>sex</th>\n",
       "      <th>gold</th>\n",
       "      <th>silver</th>\n",
       "      <th>bronze</th>\n",
       "      <th>total</th>\n",
       "    </tr>\n",
       "  </thead>\n",
       "  <tbody>\n",
       "    <tr>\n",
       "      <th>0</th>\n",
       "      <td>Lamusi A</td>\n",
       "      <td>Judo</td>\n",
       "      <td>23</td>\n",
       "      <td>170</td>\n",
       "      <td>60</td>\n",
       "      <td>People's Republic of China</td>\n",
       "      <td>M</td>\n",
       "      <td>0</td>\n",
       "      <td>0</td>\n",
       "      <td>0</td>\n",
       "      <td>0</td>\n",
       "    </tr>\n",
       "    <tr>\n",
       "      <th>1</th>\n",
       "      <td>A G Kruger</td>\n",
       "      <td>Athletics</td>\n",
       "      <td>33</td>\n",
       "      <td>193</td>\n",
       "      <td>125</td>\n",
       "      <td>United States of America</td>\n",
       "      <td>M</td>\n",
       "      <td>0</td>\n",
       "      <td>0</td>\n",
       "      <td>0</td>\n",
       "      <td>0</td>\n",
       "    </tr>\n",
       "    <tr>\n",
       "      <th>2</th>\n",
       "      <td>Jamale Aarrass</td>\n",
       "      <td>Athletics</td>\n",
       "      <td>30</td>\n",
       "      <td>187</td>\n",
       "      <td>76</td>\n",
       "      <td>France</td>\n",
       "      <td>M</td>\n",
       "      <td>0</td>\n",
       "      <td>0</td>\n",
       "      <td>0</td>\n",
       "      <td>0</td>\n",
       "    </tr>\n",
       "    <tr>\n",
       "      <th>3</th>\n",
       "      <td>Abdelhak Aatakni</td>\n",
       "      <td>Boxing</td>\n",
       "      <td>24</td>\n",
       "      <td>NaN</td>\n",
       "      <td>NaN</td>\n",
       "      <td>Morocco</td>\n",
       "      <td>M</td>\n",
       "      <td>0</td>\n",
       "      <td>0</td>\n",
       "      <td>0</td>\n",
       "      <td>0</td>\n",
       "    </tr>\n",
       "    <tr>\n",
       "      <th>4</th>\n",
       "      <td>Maria Abakumova</td>\n",
       "      <td>Athletics</td>\n",
       "      <td>26</td>\n",
       "      <td>178</td>\n",
       "      <td>85</td>\n",
       "      <td>Russian Federation</td>\n",
       "      <td>F</td>\n",
       "      <td>0</td>\n",
       "      <td>0</td>\n",
       "      <td>0</td>\n",
       "      <td>0</td>\n",
       "    </tr>\n",
       "    <tr>\n",
       "      <th>5</th>\n",
       "      <td>Luc Abalo</td>\n",
       "      <td>Handball</td>\n",
       "      <td>27</td>\n",
       "      <td>182</td>\n",
       "      <td>80</td>\n",
       "      <td>France</td>\n",
       "      <td>M</td>\n",
       "      <td>0</td>\n",
       "      <td>0</td>\n",
       "      <td>0</td>\n",
       "      <td>0</td>\n",
       "    </tr>\n",
       "    <tr>\n",
       "      <th>6</th>\n",
       "      <td>Maria Laura Abalo</td>\n",
       "      <td>Rowing</td>\n",
       "      <td>30</td>\n",
       "      <td>182</td>\n",
       "      <td>73</td>\n",
       "      <td>Argentina</td>\n",
       "      <td>F</td>\n",
       "      <td>0</td>\n",
       "      <td>0</td>\n",
       "      <td>0</td>\n",
       "      <td>0</td>\n",
       "    </tr>\n",
       "    <tr>\n",
       "      <th>7</th>\n",
       "      <td>Mohamed Abarhoun</td>\n",
       "      <td>Football</td>\n",
       "      <td>23</td>\n",
       "      <td>187</td>\n",
       "      <td>75</td>\n",
       "      <td>Morocco</td>\n",
       "      <td>M</td>\n",
       "      <td>0</td>\n",
       "      <td>0</td>\n",
       "      <td>0</td>\n",
       "      <td>0</td>\n",
       "    </tr>\n",
       "    <tr>\n",
       "      <th>8</th>\n",
       "      <td>Emanuele Abate</td>\n",
       "      <td>Athletics</td>\n",
       "      <td>27</td>\n",
       "      <td>190</td>\n",
       "      <td>80</td>\n",
       "      <td>Italy</td>\n",
       "      <td>M</td>\n",
       "      <td>0</td>\n",
       "      <td>0</td>\n",
       "      <td>0</td>\n",
       "      <td>0</td>\n",
       "    </tr>\n",
       "    <tr>\n",
       "      <th>9</th>\n",
       "      <td>Ilyas Abbadi</td>\n",
       "      <td>Boxing</td>\n",
       "      <td>19</td>\n",
       "      <td>170</td>\n",
       "      <td>NaN</td>\n",
       "      <td>Algeria</td>\n",
       "      <td>M</td>\n",
       "      <td>0</td>\n",
       "      <td>0</td>\n",
       "      <td>0</td>\n",
       "      <td>0</td>\n",
       "    </tr>\n",
       "    <tr>\n",
       "      <th>10</th>\n",
       "      <td>Sohail Abbas</td>\n",
       "      <td>Hockey</td>\n",
       "      <td>37</td>\n",
       "      <td>NaN</td>\n",
       "      <td>NaN</td>\n",
       "      <td>Pakistan</td>\n",
       "      <td>M</td>\n",
       "      <td>0</td>\n",
       "      <td>0</td>\n",
       "      <td>0</td>\n",
       "      <td>0</td>\n",
       "    </tr>\n",
       "    <tr>\n",
       "      <th>11</th>\n",
       "      <td>Shakeel Abbasi</td>\n",
       "      <td>Hockey</td>\n",
       "      <td>28</td>\n",
       "      <td>NaN</td>\n",
       "      <td>NaN</td>\n",
       "      <td>Pakistan</td>\n",
       "      <td>M</td>\n",
       "      <td>0</td>\n",
       "      <td>0</td>\n",
       "      <td>0</td>\n",
       "      <td>0</td>\n",
       "    </tr>\n",
       "    <tr>\n",
       "      <th>12</th>\n",
       "      <td>Soulmaz Abbasiazad</td>\n",
       "      <td>Rowing</td>\n",
       "      <td>28</td>\n",
       "      <td>173</td>\n",
       "      <td>60</td>\n",
       "      <td>Islamic Republic of Iran</td>\n",
       "      <td>F</td>\n",
       "      <td>0</td>\n",
       "      <td>0</td>\n",
       "      <td>0</td>\n",
       "      <td>0</td>\n",
       "    </tr>\n",
       "    <tr>\n",
       "      <th>13</th>\n",
       "      <td>Simona Abbate</td>\n",
       "      <td>Water Polo</td>\n",
       "      <td>28</td>\n",
       "      <td>171</td>\n",
       "      <td>64</td>\n",
       "      <td>Italy</td>\n",
       "      <td>F</td>\n",
       "      <td>0</td>\n",
       "      <td>0</td>\n",
       "      <td>0</td>\n",
       "      <td>0</td>\n",
       "    </tr>\n",
       "    <tr>\n",
       "      <th>14</th>\n",
       "      <td>Ahmed Abd Elgaber</td>\n",
       "      <td>Football</td>\n",
       "      <td>22</td>\n",
       "      <td>171</td>\n",
       "      <td>62</td>\n",
       "      <td>Egypt</td>\n",
       "      <td>M</td>\n",
       "      <td>0</td>\n",
       "      <td>0</td>\n",
       "      <td>0</td>\n",
       "      <td>0</td>\n",
       "    </tr>\n",
       "    <tr>\n",
       "      <th>15</th>\n",
       "      <td>Reem Abdalazem</td>\n",
       "      <td>Synchronised Swimming</td>\n",
       "      <td>19</td>\n",
       "      <td>167</td>\n",
       "      <td>NaN</td>\n",
       "      <td>Egypt</td>\n",
       "      <td>F</td>\n",
       "      <td>0</td>\n",
       "      <td>0</td>\n",
       "      <td>0</td>\n",
       "      <td>0</td>\n",
       "    </tr>\n",
       "    <tr>\n",
       "      <th>16</th>\n",
       "      <td>Mohamed Fawzi Abdalla</td>\n",
       "      <td>Football</td>\n",
       "      <td>22</td>\n",
       "      <td>175</td>\n",
       "      <td>63</td>\n",
       "      <td>United Arab Emirates</td>\n",
       "      <td>M</td>\n",
       "      <td>0</td>\n",
       "      <td>0</td>\n",
       "      <td>0</td>\n",
       "      <td>0</td>\n",
       "    </tr>\n",
       "    <tr>\n",
       "      <th>17</th>\n",
       "      <td>Mohamed Abdel Baki</td>\n",
       "      <td>Weightlifting</td>\n",
       "      <td>25</td>\n",
       "      <td>162</td>\n",
       "      <td>69</td>\n",
       "      <td>Egypt</td>\n",
       "      <td>M</td>\n",
       "      <td>0</td>\n",
       "      <td>0</td>\n",
       "      <td>0</td>\n",
       "      <td>0</td>\n",
       "    </tr>\n",
       "    <tr>\n",
       "      <th>18</th>\n",
       "      <td>Hesham Abdelaal</td>\n",
       "      <td>Boxing</td>\n",
       "      <td>18</td>\n",
       "      <td>167</td>\n",
       "      <td>NaN</td>\n",
       "      <td>Egypt</td>\n",
       "      <td>M</td>\n",
       "      <td>0</td>\n",
       "      <td>0</td>\n",
       "      <td>0</td>\n",
       "      <td>0</td>\n",
       "    </tr>\n",
       "    <tr>\n",
       "      <th>19</th>\n",
       "      <td>Tarek Abdelazim</td>\n",
       "      <td>Weightlifting</td>\n",
       "      <td>25</td>\n",
       "      <td>175</td>\n",
       "      <td>85</td>\n",
       "      <td>Egypt</td>\n",
       "      <td>M</td>\n",
       "      <td>0</td>\n",
       "      <td>0</td>\n",
       "      <td>0</td>\n",
       "      <td>0</td>\n",
       "    </tr>\n",
       "    <tr>\n",
       "      <th>20</th>\n",
       "      <td>Shaza Abdelrahman</td>\n",
       "      <td>Synchronised Swimming</td>\n",
       "      <td>19</td>\n",
       "      <td>170</td>\n",
       "      <td>NaN</td>\n",
       "      <td>Egypt</td>\n",
       "      <td>F</td>\n",
       "      <td>0</td>\n",
       "      <td>0</td>\n",
       "      <td>0</td>\n",
       "      <td>0</td>\n",
       "    </tr>\n",
       "    <tr>\n",
       "      <th>21</th>\n",
       "      <td>Mouni Abderrahim</td>\n",
       "      <td>Volleyball</td>\n",
       "      <td>26</td>\n",
       "      <td>171</td>\n",
       "      <td>60</td>\n",
       "      <td>Algeria</td>\n",
       "      <td>F</td>\n",
       "      <td>0</td>\n",
       "      <td>0</td>\n",
       "      <td>0</td>\n",
       "      <td>0</td>\n",
       "    </tr>\n",
       "    <tr>\n",
       "      <th>22</th>\n",
       "      <td>Youcef Abdi</td>\n",
       "      <td>Athletics</td>\n",
       "      <td>34</td>\n",
       "      <td>177</td>\n",
       "      <td>66</td>\n",
       "      <td>Australia</td>\n",
       "      <td>M</td>\n",
       "      <td>0</td>\n",
       "      <td>0</td>\n",
       "      <td>0</td>\n",
       "      <td>0</td>\n",
       "    </tr>\n",
       "    <tr>\n",
       "      <th>23</th>\n",
       "      <td>Abdihakem Abdirahman</td>\n",
       "      <td>Athletics</td>\n",
       "      <td>35</td>\n",
       "      <td>180</td>\n",
       "      <td>61</td>\n",
       "      <td>United States of America</td>\n",
       "      <td>M</td>\n",
       "      <td>0</td>\n",
       "      <td>0</td>\n",
       "      <td>0</td>\n",
       "      <td>0</td>\n",
       "    </tr>\n",
       "    <tr>\n",
       "      <th>24</th>\n",
       "      <td>Moustapha Abdoulaye Hima</td>\n",
       "      <td>Boxing</td>\n",
       "      <td>20</td>\n",
       "      <td>183</td>\n",
       "      <td>NaN</td>\n",
       "      <td>Niger</td>\n",
       "      <td>M</td>\n",
       "      <td>0</td>\n",
       "      <td>0</td>\n",
       "      <td>0</td>\n",
       "      <td>0</td>\n",
       "    </tr>\n",
       "    <tr>\n",
       "      <th>25</th>\n",
       "      <td>Dana Abdul Razak</td>\n",
       "      <td>Athletics</td>\n",
       "      <td>26</td>\n",
       "      <td>165</td>\n",
       "      <td>55</td>\n",
       "      <td>Iraq</td>\n",
       "      <td>F</td>\n",
       "      <td>0</td>\n",
       "      <td>0</td>\n",
       "      <td>0</td>\n",
       "      <td>0</td>\n",
       "    </tr>\n",
       "    <tr>\n",
       "      <th>26</th>\n",
       "      <td>Magomed Abdulhamidov</td>\n",
       "      <td>Boxing</td>\n",
       "      <td>25</td>\n",
       "      <td>167</td>\n",
       "      <td>NaN</td>\n",
       "      <td>Azerbaijan</td>\n",
       "      <td>M</td>\n",
       "      <td>0</td>\n",
       "      <td>0</td>\n",
       "      <td>0</td>\n",
       "      <td>0</td>\n",
       "    </tr>\n",
       "    <tr>\n",
       "      <th>27</th>\n",
       "      <td>Muminjon Abdullaev</td>\n",
       "      <td>Wrestling</td>\n",
       "      <td>22</td>\n",
       "      <td>NaN</td>\n",
       "      <td>NaN</td>\n",
       "      <td>Uzbekistan</td>\n",
       "      <td>M</td>\n",
       "      <td>0</td>\n",
       "      <td>0</td>\n",
       "      <td>0</td>\n",
       "      <td>0</td>\n",
       "    </tr>\n",
       "    <tr>\n",
       "      <th>28</th>\n",
       "      <td>Layes Abdullayeva</td>\n",
       "      <td>Athletics</td>\n",
       "      <td>21</td>\n",
       "      <td>170</td>\n",
       "      <td>47</td>\n",
       "      <td>Azerbaijan</td>\n",
       "      <td>F</td>\n",
       "      <td>0</td>\n",
       "      <td>0</td>\n",
       "      <td>0</td>\n",
       "      <td>0</td>\n",
       "    </tr>\n",
       "    <tr>\n",
       "      <th>29</th>\n",
       "      <td>Rasul Abduraim</td>\n",
       "      <td>Taekwondo</td>\n",
       "      <td>23</td>\n",
       "      <td>180</td>\n",
       "      <td>NaN</td>\n",
       "      <td>Kyrgyzstan</td>\n",
       "      <td>M</td>\n",
       "      <td>0</td>\n",
       "      <td>0</td>\n",
       "      <td>0</td>\n",
       "      <td>0</td>\n",
       "    </tr>\n",
       "  </tbody>\n",
       "</table>\n",
       "</div>"
      ],
      "text/plain": [
       "                        name                  sport  age  height  weight  \\\n",
       "0                   Lamusi A                   Judo   23     170      60   \n",
       "1                 A G Kruger              Athletics   33     193     125   \n",
       "2             Jamale Aarrass              Athletics   30     187      76   \n",
       "3           Abdelhak Aatakni                 Boxing   24     NaN     NaN   \n",
       "4            Maria Abakumova              Athletics   26     178      85   \n",
       "5                  Luc Abalo               Handball   27     182      80   \n",
       "6          Maria Laura Abalo                 Rowing   30     182      73   \n",
       "7           Mohamed Abarhoun               Football   23     187      75   \n",
       "8             Emanuele Abate              Athletics   27     190      80   \n",
       "9               Ilyas Abbadi                 Boxing   19     170     NaN   \n",
       "10              Sohail Abbas                 Hockey   37     NaN     NaN   \n",
       "11            Shakeel Abbasi                 Hockey   28     NaN     NaN   \n",
       "12        Soulmaz Abbasiazad                 Rowing   28     173      60   \n",
       "13             Simona Abbate             Water Polo   28     171      64   \n",
       "14         Ahmed Abd Elgaber               Football   22     171      62   \n",
       "15            Reem Abdalazem  Synchronised Swimming   19     167     NaN   \n",
       "16     Mohamed Fawzi Abdalla               Football   22     175      63   \n",
       "17        Mohamed Abdel Baki          Weightlifting   25     162      69   \n",
       "18           Hesham Abdelaal                 Boxing   18     167     NaN   \n",
       "19           Tarek Abdelazim          Weightlifting   25     175      85   \n",
       "20         Shaza Abdelrahman  Synchronised Swimming   19     170     NaN   \n",
       "21          Mouni Abderrahim             Volleyball   26     171      60   \n",
       "22               Youcef Abdi              Athletics   34     177      66   \n",
       "23      Abdihakem Abdirahman              Athletics   35     180      61   \n",
       "24  Moustapha Abdoulaye Hima                 Boxing   20     183     NaN   \n",
       "25          Dana Abdul Razak              Athletics   26     165      55   \n",
       "26      Magomed Abdulhamidov                 Boxing   25     167     NaN   \n",
       "27        Muminjon Abdullaev              Wrestling   22     NaN     NaN   \n",
       "28         Layes Abdullayeva              Athletics   21     170      47   \n",
       "29            Rasul Abduraim              Taekwondo   23     180     NaN   \n",
       "\n",
       "                       country sex  gold  silver  bronze  total  \n",
       "0   People's Republic of China   M     0       0       0      0  \n",
       "1     United States of America   M     0       0       0      0  \n",
       "2                       France   M     0       0       0      0  \n",
       "3                      Morocco   M     0       0       0      0  \n",
       "4           Russian Federation   F     0       0       0      0  \n",
       "5                       France   M     0       0       0      0  \n",
       "6                    Argentina   F     0       0       0      0  \n",
       "7                      Morocco   M     0       0       0      0  \n",
       "8                        Italy   M     0       0       0      0  \n",
       "9                      Algeria   M     0       0       0      0  \n",
       "10                    Pakistan   M     0       0       0      0  \n",
       "11                    Pakistan   M     0       0       0      0  \n",
       "12    Islamic Republic of Iran   F     0       0       0      0  \n",
       "13                       Italy   F     0       0       0      0  \n",
       "14                       Egypt   M     0       0       0      0  \n",
       "15                       Egypt   F     0       0       0      0  \n",
       "16        United Arab Emirates   M     0       0       0      0  \n",
       "17                       Egypt   M     0       0       0      0  \n",
       "18                       Egypt   M     0       0       0      0  \n",
       "19                       Egypt   M     0       0       0      0  \n",
       "20                       Egypt   F     0       0       0      0  \n",
       "21                     Algeria   F     0       0       0      0  \n",
       "22                   Australia   M     0       0       0      0  \n",
       "23    United States of America   M     0       0       0      0  \n",
       "24                       Niger   M     0       0       0      0  \n",
       "25                        Iraq   F     0       0       0      0  \n",
       "26                  Azerbaijan   M     0       0       0      0  \n",
       "27                  Uzbekistan   M     0       0       0      0  \n",
       "28                  Azerbaijan   F     0       0       0      0  \n",
       "29                  Kyrgyzstan   M     0       0       0      0  "
      ]
     },
     "execution_count": 43,
     "metadata": {},
     "output_type": "execute_result"
    }
   ],
   "source": [
    "athletes_df = pd.read_csv('../hw1-athletes.csv')\n",
    "athletes_df.head(30)"
   ]
  },
  {
   "cell_type": "markdown",
   "metadata": {},
   "source": [
    "<br><br>\n",
    "***Data Analysis***\n",
    "<br><br>\n",
    "10,383 athletes -> 9,038 athletes (eliminating NaN's)\n",
    "<br>\n",
    "11 features"
   ]
  },
  {
   "cell_type": "code",
   "execution_count": 44,
   "metadata": {
    "collapsed": false
   },
   "outputs": [
    {
     "data": {
      "text/plain": [
       "(10383, 11)"
      ]
     },
     "execution_count": 44,
     "metadata": {},
     "output_type": "execute_result"
    }
   ],
   "source": [
    "athletes_df.shape"
   ]
  },
  {
   "cell_type": "code",
   "execution_count": 45,
   "metadata": {
    "collapsed": false
   },
   "outputs": [
    {
     "name": "stdout",
     "output_type": "stream",
     "text": [
      "10383\n",
      "9038\n"
     ]
    }
   ],
   "source": [
    "print(len(athletes_df))\n",
    "athletes = athletes_df.dropna()\n",
    "print(len(athletes))"
   ]
  },
  {
   "cell_type": "code",
   "execution_count": 46,
   "metadata": {
    "collapsed": false
   },
   "outputs": [
    {
     "data": {
      "text/html": [
       "<div>\n",
       "<table border=\"1\" class=\"dataframe\">\n",
       "  <thead>\n",
       "    <tr style=\"text-align: right;\">\n",
       "      <th></th>\n",
       "      <th>age</th>\n",
       "      <th>height</th>\n",
       "      <th>weight</th>\n",
       "      <th>gold</th>\n",
       "      <th>silver</th>\n",
       "      <th>bronze</th>\n",
       "      <th>total</th>\n",
       "    </tr>\n",
       "  </thead>\n",
       "  <tbody>\n",
       "    <tr>\n",
       "      <th>count</th>\n",
       "      <td>9038.000000</td>\n",
       "      <td>9038.000000</td>\n",
       "      <td>9038.000000</td>\n",
       "      <td>9038.000000</td>\n",
       "      <td>9038.000000</td>\n",
       "      <td>9038.000000</td>\n",
       "      <td>9038.000000</td>\n",
       "    </tr>\n",
       "    <tr>\n",
       "      <th>mean</th>\n",
       "      <td>26.363797</td>\n",
       "      <td>177.456849</td>\n",
       "      <td>72.858929</td>\n",
       "      <td>0.017814</td>\n",
       "      <td>0.017703</td>\n",
       "      <td>0.019473</td>\n",
       "      <td>0.054990</td>\n",
       "    </tr>\n",
       "    <tr>\n",
       "      <th>std</th>\n",
       "      <td>5.459720</td>\n",
       "      <td>11.202506</td>\n",
       "      <td>16.068781</td>\n",
       "      <td>0.140397</td>\n",
       "      <td>0.135192</td>\n",
       "      <td>0.139781</td>\n",
       "      <td>0.257599</td>\n",
       "    </tr>\n",
       "    <tr>\n",
       "      <th>min</th>\n",
       "      <td>13.000000</td>\n",
       "      <td>132.000000</td>\n",
       "      <td>36.000000</td>\n",
       "      <td>0.000000</td>\n",
       "      <td>0.000000</td>\n",
       "      <td>0.000000</td>\n",
       "      <td>0.000000</td>\n",
       "    </tr>\n",
       "    <tr>\n",
       "      <th>25%</th>\n",
       "      <td>23.000000</td>\n",
       "      <td>170.000000</td>\n",
       "      <td>61.000000</td>\n",
       "      <td>0.000000</td>\n",
       "      <td>0.000000</td>\n",
       "      <td>0.000000</td>\n",
       "      <td>0.000000</td>\n",
       "    </tr>\n",
       "    <tr>\n",
       "      <th>50%</th>\n",
       "      <td>26.000000</td>\n",
       "      <td>177.000000</td>\n",
       "      <td>70.000000</td>\n",
       "      <td>0.000000</td>\n",
       "      <td>0.000000</td>\n",
       "      <td>0.000000</td>\n",
       "      <td>0.000000</td>\n",
       "    </tr>\n",
       "    <tr>\n",
       "      <th>75%</th>\n",
       "      <td>29.000000</td>\n",
       "      <td>185.000000</td>\n",
       "      <td>81.000000</td>\n",
       "      <td>0.000000</td>\n",
       "      <td>0.000000</td>\n",
       "      <td>0.000000</td>\n",
       "      <td>0.000000</td>\n",
       "    </tr>\n",
       "    <tr>\n",
       "      <th>max</th>\n",
       "      <td>71.000000</td>\n",
       "      <td>221.000000</td>\n",
       "      <td>218.000000</td>\n",
       "      <td>2.000000</td>\n",
       "      <td>2.000000</td>\n",
       "      <td>2.000000</td>\n",
       "      <td>5.000000</td>\n",
       "    </tr>\n",
       "  </tbody>\n",
       "</table>\n",
       "</div>"
      ],
      "text/plain": [
       "               age       height       weight         gold       silver  \\\n",
       "count  9038.000000  9038.000000  9038.000000  9038.000000  9038.000000   \n",
       "mean     26.363797   177.456849    72.858929     0.017814     0.017703   \n",
       "std       5.459720    11.202506    16.068781     0.140397     0.135192   \n",
       "min      13.000000   132.000000    36.000000     0.000000     0.000000   \n",
       "25%      23.000000   170.000000    61.000000     0.000000     0.000000   \n",
       "50%      26.000000   177.000000    70.000000     0.000000     0.000000   \n",
       "75%      29.000000   185.000000    81.000000     0.000000     0.000000   \n",
       "max      71.000000   221.000000   218.000000     2.000000     2.000000   \n",
       "\n",
       "            bronze        total  \n",
       "count  9038.000000  9038.000000  \n",
       "mean      0.019473     0.054990  \n",
       "std       0.139781     0.257599  \n",
       "min       0.000000     0.000000  \n",
       "25%       0.000000     0.000000  \n",
       "50%       0.000000     0.000000  \n",
       "75%       0.000000     0.000000  \n",
       "max       2.000000     5.000000  "
      ]
     },
     "execution_count": 46,
     "metadata": {},
     "output_type": "execute_result"
    }
   ],
   "source": [
    "athletes.describe()"
   ]
  },
  {
   "cell_type": "markdown",
   "metadata": {},
   "source": [
    "***Sport:*** the sport is what we will predict based on some of the other features"
   ]
  },
  {
   "cell_type": "code",
   "execution_count": 47,
   "metadata": {
    "collapsed": false
   },
   "outputs": [
    {
     "data": {
      "text/plain": [
       "Athletics                  1901\n",
       "Swimming                    859\n",
       "Football                    589\n",
       "Rowing                      512\n",
       "Hockey                      383\n",
       "Sailing                     351\n",
       "Judo                        341\n",
       "Shooting                    338\n",
       "Handball                    304\n",
       "Wrestling                   296\n",
       "Volleyball                  271\n",
       "Basketball                  258\n",
       "Water Polo                  249\n",
       "Weightlifting               229\n",
       "Fencing                     229\n",
       "Canoe Sprint                224\n",
       "Equestrian                  181\n",
       "Cycling - Road              176\n",
       "Cycling - Track             160\n",
       "Badminton                   159\n",
       "Tennis                      156\n",
       "Table Tennis                151\n",
       "Diving                      128\n",
       "Archery                     114\n",
       "Triathlon                   103\n",
       "Beach Volleyball             93\n",
       "Canoe Slalom                 80\n",
       "Cycling - Mountain Bike      70\n",
       "Modern Pentathlon            66\n",
       "Cycling - BMX                42\n",
       "Cycling                      25\n",
       "Name: sport, dtype: int64"
      ]
     },
     "execution_count": 47,
     "metadata": {},
     "output_type": "execute_result"
    }
   ],
   "source": [
    "athletes['sport'].value_counts()"
   ]
  },
  {
   "cell_type": "code",
   "execution_count": 48,
   "metadata": {
    "collapsed": false
   },
   "outputs": [
    {
     "data": {
      "text/plain": [
       "Athletics                  0.210334\n",
       "Swimming                   0.095043\n",
       "Football                   0.065169\n",
       "Rowing                     0.056650\n",
       "Hockey                     0.042377\n",
       "Sailing                    0.038836\n",
       "Judo                       0.037730\n",
       "Shooting                   0.037398\n",
       "Handball                   0.033636\n",
       "Wrestling                  0.032751\n",
       "Volleyball                 0.029985\n",
       "Basketball                 0.028546\n",
       "Water Polo                 0.027550\n",
       "Weightlifting              0.025337\n",
       "Fencing                    0.025337\n",
       "Canoe Sprint               0.024784\n",
       "Equestrian                 0.020027\n",
       "Cycling - Road             0.019473\n",
       "Cycling - Track            0.017703\n",
       "Badminton                  0.017592\n",
       "Tennis                     0.017260\n",
       "Table Tennis               0.016707\n",
       "Diving                     0.014162\n",
       "Archery                    0.012613\n",
       "Triathlon                  0.011396\n",
       "Beach Volleyball           0.010290\n",
       "Canoe Slalom               0.008852\n",
       "Cycling - Mountain Bike    0.007745\n",
       "Modern Pentathlon          0.007303\n",
       "Cycling - BMX              0.004647\n",
       "Cycling                    0.002766\n",
       "Name: sport, dtype: float64"
      ]
     },
     "execution_count": 48,
     "metadata": {},
     "output_type": "execute_result"
    }
   ],
   "source": [
    "athletes['sport'].value_counts(normalize=True)"
   ]
  },
  {
   "cell_type": "code",
   "execution_count": 49,
   "metadata": {
    "collapsed": false
   },
   "outputs": [
    {
     "data": {
      "text/plain": [
       "<matplotlib.text.Text at 0x11ba531d0>"
      ]
     },
     "execution_count": 49,
     "metadata": {},
     "output_type": "execute_result"
    },
    {
     "data": {
      "image/png": "[encoded data removed]",
      "text/plain": [
       "<matplotlib.figure.Figure at 0x11ba43748>"
      ]
     },
     "metadata": {},
     "output_type": "display_data"
    }
   ],
   "source": [
    "athletes['sport'].value_counts().plot(kind='bar', figsize=(10,7))\n",
    "\n",
    "plt.title(\"Sport\")\n",
    "\n",
    "plt.xlabel(\"Sport\")\n",
    "plt.ylabel(\"Number of Individuals\")"
   ]
  },
  {
   "cell_type": "markdown",
   "metadata": {},
   "source": [
    "***Age:*** the majority of athletes are in their 20's and early 30's"
   ]
  },
  {
   "cell_type": "code",
   "execution_count": 59,
   "metadata": {
    "collapsed": false
   },
   "outputs": [
    {
     "data": {
      "text/plain": [
       "23    775\n",
       "25    740\n",
       "24    717\n",
       "27    698\n",
       "26    687\n",
       "22    676\n",
       "28    557\n",
       "21    546\n",
       "29    526\n",
       "30    458\n",
       "20    389\n",
       "31    357\n",
       "32    302\n",
       "19    262\n",
       "33    226\n",
       "Name: age, dtype: int64"
      ]
     },
     "execution_count": 59,
     "metadata": {},
     "output_type": "execute_result"
    }
   ],
   "source": [
    "athletes['age'].value_counts().head(15)"
   ]
  },
  {
   "cell_type": "code",
   "execution_count": 51,
   "metadata": {
    "collapsed": false
   },
   "outputs": [
    {
     "data": {
      "text/plain": [
       "<matplotlib.text.Text at 0x11bbee208>"
      ]
     },
     "execution_count": 51,
     "metadata": {},
     "output_type": "execute_result"
    },
    {
     "data": {
      "image/png": "[encoded data removed]",
      "text/plain": [
       "<matplotlib.figure.Figure at 0x11bc329b0>"
      ]
     },
     "metadata": {},
     "output_type": "display_data"
    }
   ],
   "source": [
    "athletes['age'].hist(figsize=(6,6))\n",
    "\n",
    "plt.title(\"Age\")\n",
    "\n",
    "plt.xlabel(\"Age\")\n",
    "plt.ylabel(\"Number of Individuals\")"
   ]
  },
  {
   "cell_type": "markdown",
   "metadata": {},
   "source": [
    "Incredible to know that there is one athlete at the age of 71!"
   ]
  },
  {
   "cell_type": "code",
   "execution_count": 52,
   "metadata": {
    "collapsed": false
   },
   "outputs": [
    {
     "data": {
      "text/html": [
       "<div>\n",
       "<table border=\"1\" class=\"dataframe\">\n",
       "  <thead>\n",
       "    <tr style=\"text-align: right;\">\n",
       "      <th></th>\n",
       "      <th>name</th>\n",
       "      <th>sport</th>\n",
       "      <th>age</th>\n",
       "      <th>height</th>\n",
       "      <th>weight</th>\n",
       "      <th>country</th>\n",
       "      <th>sex</th>\n",
       "      <th>gold</th>\n",
       "      <th>silver</th>\n",
       "      <th>bronze</th>\n",
       "      <th>total</th>\n",
       "    </tr>\n",
       "  </thead>\n",
       "  <tbody>\n",
       "    <tr>\n",
       "      <th>3757</th>\n",
       "      <td>Hiroshi Hoketsu</td>\n",
       "      <td>Equestrian</td>\n",
       "      <td>71</td>\n",
       "      <td>168</td>\n",
       "      <td>61</td>\n",
       "      <td>Japan</td>\n",
       "      <td>M</td>\n",
       "      <td>0</td>\n",
       "      <td>0</td>\n",
       "      <td>0</td>\n",
       "      <td>0</td>\n",
       "    </tr>\n",
       "    <tr>\n",
       "      <th>4939</th>\n",
       "      <td>Afanasijs Kuzmins</td>\n",
       "      <td>Shooting</td>\n",
       "      <td>65</td>\n",
       "      <td>178</td>\n",
       "      <td>89</td>\n",
       "      <td>Latvia</td>\n",
       "      <td>M</td>\n",
       "      <td>0</td>\n",
       "      <td>0</td>\n",
       "      <td>0</td>\n",
       "      <td>0</td>\n",
       "    </tr>\n",
       "    <tr>\n",
       "      <th>6098</th>\n",
       "      <td>Ian Millar</td>\n",
       "      <td>Equestrian</td>\n",
       "      <td>65</td>\n",
       "      <td>185</td>\n",
       "      <td>76</td>\n",
       "      <td>Canada</td>\n",
       "      <td>M</td>\n",
       "      <td>0</td>\n",
       "      <td>0</td>\n",
       "      <td>0</td>\n",
       "      <td>0</td>\n",
       "    </tr>\n",
       "  </tbody>\n",
       "</table>\n",
       "</div>"
      ],
      "text/plain": [
       "                   name       sport  age  height  weight country sex  gold  \\\n",
       "3757    Hiroshi Hoketsu  Equestrian   71     168      61   Japan   M     0   \n",
       "4939  Afanasijs Kuzmins    Shooting   65     178      89  Latvia   M     0   \n",
       "6098         Ian Millar  Equestrian   65     185      76  Canada   M     0   \n",
       "\n",
       "      silver  bronze  total  \n",
       "3757       0       0      0  \n",
       "4939       0       0      0  \n",
       "6098       0       0      0  "
      ]
     },
     "execution_count": 52,
     "metadata": {},
     "output_type": "execute_result"
    }
   ],
   "source": [
    "athletes[athletes['age']>60]"
   ]
  },
  {
   "cell_type": "markdown",
   "metadata": {},
   "source": [
    "***Height:*** the top 15 heights are between 165cm to 190cm, which in feet is between 5'4 to 6'2"
   ]
  },
  {
   "cell_type": "code",
   "execution_count": 53,
   "metadata": {
    "collapsed": false
   },
   "outputs": [
    {
     "data": {
      "text/plain": [
       "180    487\n",
       "170    470\n",
       "178    422\n",
       "175    395\n",
       "183    344\n",
       "168    331\n",
       "172    302\n",
       "173    300\n",
       "185    298\n",
       "165    295\n",
       "182    277\n",
       "190    242\n",
       "188    235\n",
       "176    229\n",
       "174    227\n",
       "Name: height, dtype: int64"
      ]
     },
     "execution_count": 53,
     "metadata": {},
     "output_type": "execute_result"
    }
   ],
   "source": [
    "athletes['height'].value_counts().head(15)"
   ]
  },
  {
   "cell_type": "code",
   "execution_count": 60,
   "metadata": {
    "collapsed": false
   },
   "outputs": [
    {
     "data": {
      "text/plain": [
       "<matplotlib.text.Text at 0x11c099358>"
      ]
     },
     "execution_count": 60,
     "metadata": {},
     "output_type": "execute_result"
    },
    {
     "data": {
      "image/png": "[encoded data removed]",
      "text/plain": [
       "<matplotlib.figure.Figure at 0x11c0a2588>"
      ]
     },
     "metadata": {},
     "output_type": "display_data"
    }
   ],
   "source": [
    "athletes['height'].hist()\n",
    "\n",
    "plt.title(\"Height\")\n",
    "\n",
    "plt.xlabel(\"Height (cm)\")\n",
    "plt.ylabel(\"Number of Individuals\")"
   ]
  },
  {
   "cell_type": "markdown",
   "metadata": {},
   "source": [
    "***Weight:*** the weight is measured in kilograms. The minimum weight is 36kg or 79 pounds (13 year old), the maximum weight is 218kg or 480 pounds, and the mean weight is 72kg or 158.7 pounds"
   ]
  },
  {
   "cell_type": "code",
   "execution_count": 61,
   "metadata": {
    "collapsed": false
   },
   "outputs": [
    {
     "data": {
      "text/plain": [
       "60    409\n",
       "70    392\n",
       "75    313\n",
       "65    305\n",
       "68    274\n",
       "72    265\n",
       "73    257\n",
       "62    248\n",
       "80    236\n",
       "63    233\n",
       "55    230\n",
       "66    224\n",
       "64    219\n",
       "58    219\n",
       "74    210\n",
       "Name: weight, dtype: int64"
      ]
     },
     "execution_count": 61,
     "metadata": {},
     "output_type": "execute_result"
    }
   ],
   "source": [
    "athletes['weight'].value_counts().head(15)"
   ]
  },
  {
   "cell_type": "code",
   "execution_count": 62,
   "metadata": {
    "collapsed": false
   },
   "outputs": [
    {
     "data": {
      "text/plain": [
       "<matplotlib.text.Text at 0x11c5c6ef0>"
      ]
     },
     "execution_count": 62,
     "metadata": {},
     "output_type": "execute_result"
    },
    {
     "data": {
      "image/png": "[encoded data removed]",
      "text/plain": [
       "<matplotlib.figure.Figure at 0x11c0d22b0>"
      ]
     },
     "metadata": {},
     "output_type": "display_data"
    }
   ],
   "source": [
    "athletes['weight'].value_counts().hist(figsize=(6,5))\n",
    "\n",
    "plt.title(\"Weight\")\n",
    "\n",
    "plt.xlabel(\"Weight (kg)\")\n",
    "plt.ylabel(\"Number of Individuals\")"
   ]
  },
  {
   "cell_type": "markdown",
   "metadata": {},
   "source": [
    "***Country:*** the top three countries in this dataset are the US, Great Britain and Australia. These athletes are from countries all around the world"
   ]
  },
  {
   "cell_type": "code",
   "execution_count": 65,
   "metadata": {
    "collapsed": false
   },
   "outputs": [
    {
     "data": {
      "text/plain": [
       "United States of America      488\n",
       "Great Britain                 482\n",
       "Australia                     369\n",
       "Russian Federation            369\n",
       "Germany                       361\n",
       "France                        309\n",
       "People's Republic of China    303\n",
       "Japan                         261\n",
       "Spain                         248\n",
       "Canada                        245\n",
       "Italy                         242\n",
       "Republic of Korea             240\n",
       "Ukraine                       198\n",
       "Poland                        188\n",
       "New Zealand                   179\n",
       "Netherlands                   174\n",
       "Brazil                        163\n",
       "Belarus                       144\n",
       "Hungary                       131\n",
       "Argentina                     129\n",
       "South Africa                  127\n",
       "Sweden                        125\n",
       "Czech Republic                124\n",
       "Belgium                       112\n",
       "Denmark                       109\n",
       "Serbia                        104\n",
       "Colombia                       98\n",
       "Switzerland                    97\n",
       "Croatia                        95\n",
       "Mexico                         93\n",
       "Name: country, dtype: int64"
      ]
     },
     "execution_count": 65,
     "metadata": {},
     "output_type": "execute_result"
    }
   ],
   "source": [
    "athletes['country'].value_counts().head(30)"
   ]
  },
  {
   "cell_type": "code",
   "execution_count": 66,
   "metadata": {
    "collapsed": false
   },
   "outputs": [
    {
     "data": {
      "text/plain": [
       "United States of America      0.053994\n",
       "Great Britain                 0.053330\n",
       "Australia                     0.040828\n",
       "Russian Federation            0.040828\n",
       "Germany                       0.039942\n",
       "France                        0.034189\n",
       "People's Republic of China    0.033525\n",
       "Japan                         0.028878\n",
       "Spain                         0.027440\n",
       "Canada                        0.027108\n",
       "Italy                         0.026776\n",
       "Republic of Korea             0.026555\n",
       "Ukraine                       0.021908\n",
       "Poland                        0.020801\n",
       "New Zealand                   0.019805\n",
       "Netherlands                   0.019252\n",
       "Brazil                        0.018035\n",
       "Belarus                       0.015933\n",
       "Hungary                       0.014494\n",
       "Argentina                     0.014273\n",
       "South Africa                  0.014052\n",
       "Sweden                        0.013830\n",
       "Czech Republic                0.013720\n",
       "Belgium                       0.012392\n",
       "Denmark                       0.012060\n",
       "Serbia                        0.011507\n",
       "Colombia                      0.010843\n",
       "Switzerland                   0.010732\n",
       "Croatia                       0.010511\n",
       "Mexico                        0.010290\n",
       "Name: country, dtype: float64"
      ]
     },
     "execution_count": 66,
     "metadata": {},
     "output_type": "execute_result"
    }
   ],
   "source": [
    "athletes['country'].value_counts(normalize=True).head(30)"
   ]
  },
  {
   "cell_type": "code",
   "execution_count": 72,
   "metadata": {
    "collapsed": false
   },
   "outputs": [
    {
     "data": {
      "text/plain": [
       "<matplotlib.text.Text at 0x11e9ced30>"
      ]
     },
     "execution_count": 72,
     "metadata": {},
     "output_type": "execute_result"
    },
    {
     "data": {
      "image/png": "[encoded data removed]",
      "text/plain": [
       "<matplotlib.figure.Figure at 0x11e849630>"
      ]
     },
     "metadata": {},
     "output_type": "display_data"
    }
   ],
   "source": [
    "athletes['country'].value_counts().plot(kind='bar', figsize=(20,10))\n",
    "\n",
    "plt.title(\"Country\")\n",
    "\n",
    "plt.xlabel(\"Country\")\n",
    "plt.ylabel(\"Number of Individuals\")"
   ]
  },
  {
   "cell_type": "markdown",
   "metadata": {},
   "source": [
    "***Sex:*** good proportion between males and females"
   ]
  },
  {
   "cell_type": "code",
   "execution_count": 73,
   "metadata": {
    "collapsed": false
   },
   "outputs": [
    {
     "data": {
      "text/plain": [
       "M    5017\n",
       "F    4021\n",
       "Name: sex, dtype: int64"
      ]
     },
     "execution_count": 73,
     "metadata": {},
     "output_type": "execute_result"
    }
   ],
   "source": [
    "athletes['sex'].value_counts()"
   ]
  },
  {
   "cell_type": "code",
   "execution_count": 74,
   "metadata": {
    "collapsed": false
   },
   "outputs": [
    {
     "data": {
      "text/plain": [
       "M    0.555101\n",
       "F    0.444899\n",
       "Name: sex, dtype: float64"
      ]
     },
     "execution_count": 74,
     "metadata": {},
     "output_type": "execute_result"
    }
   ],
   "source": [
    "athletes['sex'].value_counts(normalize=True)"
   ]
  },
  {
   "cell_type": "code",
   "execution_count": 75,
   "metadata": {
    "collapsed": false
   },
   "outputs": [
    {
     "data": {
      "text/plain": [
       "<matplotlib.text.Text at 0x11feb3d30>"
      ]
     },
     "execution_count": 75,
     "metadata": {},
     "output_type": "execute_result"
    },
    {
     "data": {
      "image/png": "[encoded data removed]",
      "text/plain": [
       "<matplotlib.figure.Figure at 0x11ed443c8>"
      ]
     },
     "metadata": {},
     "output_type": "display_data"
    }
   ],
   "source": [
    "athletes['sex'].value_counts().plot(kind='bar')\n",
    "\n",
    "plt.title(\"Sex\")\n",
    "\n",
    "plt.xlabel(\"Sex\")\n",
    "plt.ylabel(\"Number of Individuals\")"
   ]
  },
  {
   "cell_type": "markdown",
   "metadata": {},
   "source": [
    "***Gold Medal:***"
   ]
  },
  {
   "cell_type": "code",
   "execution_count": 76,
   "metadata": {
    "collapsed": false
   },
   "outputs": [
    {
     "data": {
      "text/plain": [
       "0    8887\n",
       "1     141\n",
       "2      10\n",
       "Name: gold, dtype: int64"
      ]
     },
     "execution_count": 76,
     "metadata": {},
     "output_type": "execute_result"
    }
   ],
   "source": [
    "athletes['gold'].value_counts()"
   ]
  },
  {
   "cell_type": "code",
   "execution_count": 77,
   "metadata": {
    "collapsed": false
   },
   "outputs": [
    {
     "data": {
      "text/plain": [
       "0    0.983293\n",
       "1    0.015601\n",
       "2    0.001106\n",
       "Name: gold, dtype: float64"
      ]
     },
     "execution_count": 77,
     "metadata": {},
     "output_type": "execute_result"
    }
   ],
   "source": [
    "athletes['gold'].value_counts(normalize=True)"
   ]
  },
  {
   "cell_type": "code",
   "execution_count": 78,
   "metadata": {
    "collapsed": false
   },
   "outputs": [
    {
     "data": {
      "text/plain": [
       "<matplotlib.text.Text at 0x1202fcf28>"
      ]
     },
     "execution_count": 78,
     "metadata": {},
     "output_type": "execute_result"
    },
    {
     "data": {
      "image/png": "[encoded data removed]",
      "text/plain": [
       "<matplotlib.figure.Figure at 0x1202f92b0>"
      ]
     },
     "metadata": {},
     "output_type": "display_data"
    }
   ],
   "source": [
    "athletes['gold'].value_counts().plot(kind='bar')\n",
    "\n",
    "plt.title(\"Gold Medal\")\n",
    "\n",
    "plt.xlabel(\"Gold\")\n",
    "plt.ylabel(\"Number of Individuals\")"
   ]
  },
  {
   "cell_type": "markdown",
   "metadata": {},
   "source": [
    "***Silver Medal:***"
   ]
  },
  {
   "cell_type": "code",
   "execution_count": 80,
   "metadata": {
    "collapsed": false
   },
   "outputs": [
    {
     "data": {
      "text/plain": [
       "0    8882\n",
       "1     152\n",
       "2       4\n",
       "Name: silver, dtype: int64"
      ]
     },
     "execution_count": 80,
     "metadata": {},
     "output_type": "execute_result"
    }
   ],
   "source": [
    "athletes['silver'].value_counts()"
   ]
  },
  {
   "cell_type": "code",
   "execution_count": 81,
   "metadata": {
    "collapsed": false
   },
   "outputs": [
    {
     "data": {
      "text/plain": [
       "0    0.982740\n",
       "1    0.016818\n",
       "2    0.000443\n",
       "Name: silver, dtype: float64"
      ]
     },
     "execution_count": 81,
     "metadata": {},
     "output_type": "execute_result"
    }
   ],
   "source": [
    "athletes['silver'].value_counts(normalize=True)"
   ]
  },
  {
   "cell_type": "code",
   "execution_count": 82,
   "metadata": {
    "collapsed": false
   },
   "outputs": [
    {
     "data": {
      "text/plain": [
       "<matplotlib.text.Text at 0x1202a6a20>"
      ]
     },
     "execution_count": 82,
     "metadata": {},
     "output_type": "execute_result"
    },
    {
     "data": {
      "image/png": "[encoded data removed]",
      "text/plain": [
       "<matplotlib.figure.Figure at 0x12090d2b0>"
      ]
     },
     "metadata": {},
     "output_type": "display_data"
    }
   ],
   "source": [
    "athletes['silver'].value_counts().plot(kind='bar')\n",
    "\n",
    "plt.title(\"Silver Medal\")\n",
    "\n",
    "plt.xlabel(\"Silver\")\n",
    "plt.ylabel(\"Number of Individuals\")"
   ]
  },
  {
   "cell_type": "markdown",
   "metadata": {},
   "source": [
    "***Bronze Medal:***"
   ]
  },
  {
   "cell_type": "code",
   "execution_count": 83,
   "metadata": {
    "collapsed": false
   },
   "outputs": [
    {
     "data": {
      "text/plain": [
       "0    8864\n",
       "1     172\n",
       "2       2\n",
       "Name: bronze, dtype: int64"
      ]
     },
     "execution_count": 83,
     "metadata": {},
     "output_type": "execute_result"
    }
   ],
   "source": [
    "athletes['bronze'].value_counts()"
   ]
  },
  {
   "cell_type": "code",
   "execution_count": 84,
   "metadata": {
    "collapsed": false
   },
   "outputs": [
    {
     "data": {
      "text/plain": [
       "0    0.980748\n",
       "1    0.019031\n",
       "2    0.000221\n",
       "Name: bronze, dtype: float64"
      ]
     },
     "execution_count": 84,
     "metadata": {},
     "output_type": "execute_result"
    }
   ],
   "source": [
    "athletes['bronze'].value_counts(normalize=True)"
   ]
  },
  {
   "cell_type": "code",
   "execution_count": 85,
   "metadata": {
    "collapsed": false
   },
   "outputs": [
    {
     "data": {
      "text/plain": [
       "<matplotlib.text.Text at 0x1209f80f0>"
      ]
     },
     "execution_count": 85,
     "metadata": {},
     "output_type": "execute_result"
    },
    {
     "data": {
      "image/png": "[encoded data removed]",
      "text/plain": [
       "<matplotlib.figure.Figure at 0x120c95eb8>"
      ]
     },
     "metadata": {},
     "output_type": "display_data"
    }
   ],
   "source": [
    "athletes['bronze'].value_counts().plot(kind='bar')\n",
    "\n",
    "plt.title(\"Bronze Medal\")\n",
    "\n",
    "plt.xlabel(\"Bronze\")\n",
    "plt.ylabel(\"Number of Individuals\")"
   ]
  },
  {
   "cell_type": "markdown",
   "metadata": {},
   "source": [
    "***Total Medals:***"
   ]
  },
  {
   "cell_type": "code",
   "execution_count": 86,
   "metadata": {
    "collapsed": false
   },
   "outputs": [
    {
     "data": {
      "text/plain": [
       "0    8587\n",
       "1     418\n",
       "2      25\n",
       "3       4\n",
       "4       3\n",
       "5       1\n",
       "Name: total, dtype: int64"
      ]
     },
     "execution_count": 86,
     "metadata": {},
     "output_type": "execute_result"
    }
   ],
   "source": [
    "athletes['total'].value_counts()"
   ]
  },
  {
   "cell_type": "code",
   "execution_count": 87,
   "metadata": {
    "collapsed": false
   },
   "outputs": [
    {
     "data": {
      "text/plain": [
       "0    0.950100\n",
       "1    0.046249\n",
       "2    0.002766\n",
       "3    0.000443\n",
       "4    0.000332\n",
       "5    0.000111\n",
       "Name: total, dtype: float64"
      ]
     },
     "execution_count": 87,
     "metadata": {},
     "output_type": "execute_result"
    }
   ],
   "source": [
    "athletes['total'].value_counts(normalize=True)"
   ]
  },
  {
   "cell_type": "code",
   "execution_count": 91,
   "metadata": {
    "collapsed": false
   },
   "outputs": [
    {
     "data": {
      "text/plain": [
       "<matplotlib.text.Text at 0x1212a60b8>"
      ]
     },
     "execution_count": 91,
     "metadata": {},
     "output_type": "execute_result"
    },
    {
     "data": {
      "image/png": "[encoded data removed]",
      "text/plain": [
       "<matplotlib.figure.Figure at 0x1212ad4e0>"
      ]
     },
     "metadata": {},
     "output_type": "display_data"
    }
   ],
   "source": [
    "athletes['total'].value_counts().plot(kind='bar')\n",
    "\n",
    "plt.title(\"Total Medals\")\n",
    "\n",
    "plt.xlabel(\"Total\")\n",
    "plt.ylabel(\"Number of Individuals\")"
   ]
  },
  {
   "cell_type": "markdown",
   "metadata": {},
   "source": [
    "<br><br>***Data Modelling***\n",
    "<br><br>***Model #1:*** Features are *** Age, Height,*** and ***Weight***"
   ]
  },
  {
   "cell_type": "code",
   "execution_count": 4,
   "metadata": {
    "collapsed": false
   },
   "outputs": [
    {
     "data": {
      "text/html": [
       "<div>\n",
       "<table border=\"1\" class=\"dataframe\">\n",
       "  <thead>\n",
       "    <tr style=\"text-align: right;\">\n",
       "      <th></th>\n",
       "      <th>age</th>\n",
       "      <th>height</th>\n",
       "      <th>weight</th>\n",
       "    </tr>\n",
       "  </thead>\n",
       "  <tbody>\n",
       "    <tr>\n",
       "      <th>0</th>\n",
       "      <td>23</td>\n",
       "      <td>170</td>\n",
       "      <td>60</td>\n",
       "    </tr>\n",
       "    <tr>\n",
       "      <th>1</th>\n",
       "      <td>33</td>\n",
       "      <td>193</td>\n",
       "      <td>125</td>\n",
       "    </tr>\n",
       "    <tr>\n",
       "      <th>2</th>\n",
       "      <td>30</td>\n",
       "      <td>187</td>\n",
       "      <td>76</td>\n",
       "    </tr>\n",
       "    <tr>\n",
       "      <th>4</th>\n",
       "      <td>26</td>\n",
       "      <td>178</td>\n",
       "      <td>85</td>\n",
       "    </tr>\n",
       "    <tr>\n",
       "      <th>5</th>\n",
       "      <td>27</td>\n",
       "      <td>182</td>\n",
       "      <td>80</td>\n",
       "    </tr>\n",
       "    <tr>\n",
       "      <th>6</th>\n",
       "      <td>30</td>\n",
       "      <td>182</td>\n",
       "      <td>73</td>\n",
       "    </tr>\n",
       "    <tr>\n",
       "      <th>7</th>\n",
       "      <td>23</td>\n",
       "      <td>187</td>\n",
       "      <td>75</td>\n",
       "    </tr>\n",
       "    <tr>\n",
       "      <th>8</th>\n",
       "      <td>27</td>\n",
       "      <td>190</td>\n",
       "      <td>80</td>\n",
       "    </tr>\n",
       "    <tr>\n",
       "      <th>12</th>\n",
       "      <td>28</td>\n",
       "      <td>173</td>\n",
       "      <td>60</td>\n",
       "    </tr>\n",
       "    <tr>\n",
       "      <th>13</th>\n",
       "      <td>28</td>\n",
       "      <td>171</td>\n",
       "      <td>64</td>\n",
       "    </tr>\n",
       "    <tr>\n",
       "      <th>14</th>\n",
       "      <td>22</td>\n",
       "      <td>171</td>\n",
       "      <td>62</td>\n",
       "    </tr>\n",
       "    <tr>\n",
       "      <th>16</th>\n",
       "      <td>22</td>\n",
       "      <td>175</td>\n",
       "      <td>63</td>\n",
       "    </tr>\n",
       "    <tr>\n",
       "      <th>17</th>\n",
       "      <td>25</td>\n",
       "      <td>162</td>\n",
       "      <td>69</td>\n",
       "    </tr>\n",
       "    <tr>\n",
       "      <th>19</th>\n",
       "      <td>25</td>\n",
       "      <td>175</td>\n",
       "      <td>85</td>\n",
       "    </tr>\n",
       "    <tr>\n",
       "      <th>21</th>\n",
       "      <td>26</td>\n",
       "      <td>171</td>\n",
       "      <td>60</td>\n",
       "    </tr>\n",
       "    <tr>\n",
       "      <th>22</th>\n",
       "      <td>34</td>\n",
       "      <td>177</td>\n",
       "      <td>66</td>\n",
       "    </tr>\n",
       "    <tr>\n",
       "      <th>23</th>\n",
       "      <td>35</td>\n",
       "      <td>180</td>\n",
       "      <td>61</td>\n",
       "    </tr>\n",
       "    <tr>\n",
       "      <th>25</th>\n",
       "      <td>26</td>\n",
       "      <td>165</td>\n",
       "      <td>55</td>\n",
       "    </tr>\n",
       "    <tr>\n",
       "      <th>28</th>\n",
       "      <td>21</td>\n",
       "      <td>170</td>\n",
       "      <td>47</td>\n",
       "    </tr>\n",
       "    <tr>\n",
       "      <th>30</th>\n",
       "      <td>34</td>\n",
       "      <td>173</td>\n",
       "      <td>84</td>\n",
       "    </tr>\n",
       "  </tbody>\n",
       "</table>\n",
       "</div>"
      ],
      "text/plain": [
       "    age  height  weight\n",
       "0    23     170      60\n",
       "1    33     193     125\n",
       "2    30     187      76\n",
       "4    26     178      85\n",
       "5    27     182      80\n",
       "6    30     182      73\n",
       "7    23     187      75\n",
       "8    27     190      80\n",
       "12   28     173      60\n",
       "13   28     171      64\n",
       "14   22     171      62\n",
       "16   22     175      63\n",
       "17   25     162      69\n",
       "19   25     175      85\n",
       "21   26     171      60\n",
       "22   34     177      66\n",
       "23   35     180      61\n",
       "25   26     165      55\n",
       "28   21     170      47\n",
       "30   34     173      84"
      ]
     },
     "execution_count": 4,
     "metadata": {},
     "output_type": "execute_result"
    }
   ],
   "source": [
    "feature_cols = ['age', 'height', 'weight']\n",
    "target_col = ['sport']\n",
    "athletes[feature_cols][0:20]"
   ]
  },
  {
   "cell_type": "code",
   "execution_count": 5,
   "metadata": {
    "collapsed": false
   },
   "outputs": [
    {
     "name": "stdout",
     "output_type": "stream",
     "text": [
      "[[  23.  170.   60.]\n",
      " [  33.  193.  125.]\n",
      " [  30.  187.   76.]\n",
      " ..., \n",
      " [  27.  180.   87.]\n",
      " [  25.  173.   62.]\n",
      " [  24.  221.  110.]]\n",
      "['Judo' 'Athletics' 'Athletics' ..., 'Handball' 'Athletics' 'Basketball']\n",
      "(9038, 3) (9038,)\n"
     ]
    }
   ],
   "source": [
    "X = athletes[feature_cols].values\n",
    "print(X)\n",
    "y = athletes[target_col].values.ravel()\n",
    "print(y)\n",
    "print(X.shape, y.shape)"
   ]
  },
  {
   "cell_type": "markdown",
   "metadata": {},
   "source": [
    "<br><br>***Label Encoder***:\n",
    "<br>\n",
    "Use a label encoder to make each sport into a number, in order to input it into the model"
   ]
  },
  {
   "cell_type": "code",
   "execution_count": 6,
   "metadata": {
    "collapsed": false
   },
   "outputs": [
    {
     "data": {
      "text/plain": [
       "LabelEncoder()"
      ]
     },
     "execution_count": 6,
     "metadata": {},
     "output_type": "execute_result"
    }
   ],
   "source": [
    "from sklearn import preprocessing\n",
    "le = preprocessing.LabelEncoder()\n",
    "le.fit(y.ravel())"
   ]
  },
  {
   "cell_type": "code",
   "execution_count": 7,
   "metadata": {
    "collapsed": false
   },
   "outputs": [
    {
     "data": {
      "text/plain": [
       "array(['Archery', 'Athletics', 'Badminton', 'Basketball',\n",
       "       'Beach Volleyball', 'Canoe Slalom', 'Canoe Sprint', 'Cycling',\n",
       "       'Cycling - BMX', 'Cycling - Mountain Bike', 'Cycling - Road',\n",
       "       'Cycling - Track', 'Diving', 'Equestrian', 'Fencing', 'Football',\n",
       "       'Handball', 'Hockey', 'Judo', 'Modern Pentathlon', 'Rowing',\n",
       "       'Sailing', 'Shooting', 'Swimming', 'Table Tennis', 'Tennis',\n",
       "       'Triathlon', 'Volleyball', 'Water Polo', 'Weightlifting',\n",
       "       'Wrestling'], dtype=object)"
      ]
     },
     "execution_count": 7,
     "metadata": {},
     "output_type": "execute_result"
    }
   ],
   "source": [
    "le.classes_"
   ]
  },
  {
   "cell_type": "code",
   "execution_count": 8,
   "metadata": {
    "collapsed": false
   },
   "outputs": [
    {
     "name": "stdout",
     "output_type": "stream",
     "text": [
      "['Judo' 'Athletics' 'Athletics' ..., 'Handball' 'Athletics' 'Basketball']\n",
      "[18  1  1 ..., 16  1  3]\n"
     ]
    }
   ],
   "source": [
    "print(y)\n",
    "target = le.transform(y).ravel()\n",
    "print(target)"
   ]
  },
  {
   "cell_type": "markdown",
   "metadata": {
    "collapsed": false
   },
   "source": [
    "<br><br>\n",
    "***Model #1a:*** Nearest Neighbors"
   ]
  },
  {
   "cell_type": "code",
   "execution_count": 10,
   "metadata": {
    "collapsed": false
   },
   "outputs": [
    {
     "data": {
      "text/plain": [
       "KNeighborsClassifier(algorithm='auto', leaf_size=30, metric='euclidean',\n",
       "           metric_params=None, n_jobs=1, n_neighbors=1, p=2,\n",
       "           weights='uniform')"
      ]
     },
     "execution_count": 10,
     "metadata": {},
     "output_type": "execute_result"
    }
   ],
   "source": [
    "from sklearn.neighbors import KNeighborsClassifier\n",
    "\n",
    "knn = KNeighborsClassifier(n_neighbors=1, metric='euclidean')\n",
    "knn.fit(X,y)"
   ]
  },
  {
   "cell_type": "code",
   "execution_count": 11,
   "metadata": {
    "collapsed": false
   },
   "outputs": [
    {
     "data": {
      "text/plain": [
       "array(['Wrestling', 'Athletics'], dtype=object)"
      ]
     },
     "execution_count": 11,
     "metadata": {},
     "output_type": "execute_result"
    }
   ],
   "source": [
    "X_test = np.array([[23., 170., 60.], [33., 193., 125.]])\n",
    "knn.predict(X_test)"
   ]
  },
  {
   "cell_type": "markdown",
   "metadata": {},
   "source": [
    "***Accuracy Score:*** 80.8%"
   ]
  },
  {
   "cell_type": "code",
   "execution_count": 12,
   "metadata": {
    "collapsed": false
   },
   "outputs": [
    {
     "data": {
      "text/plain": [
       "0.80792210666076569"
      ]
     },
     "execution_count": 12,
     "metadata": {},
     "output_type": "execute_result"
    }
   ],
   "source": [
    "from sklearn import metrics\n",
    "\n",
    "y_pred = knn.predict(X)\n",
    "metrics.accuracy_score(y, y_pred)\n"
   ]
  },
  {
   "cell_type": "markdown",
   "metadata": {},
   "source": [
    "We should be getting 100% because we are predicting the points that we have!  BUT! We get 80% because there are some athletes that have the same sizes and age in different sports!"
   ]
  },
  {
   "cell_type": "code",
   "execution_count": 13,
   "metadata": {
    "collapsed": false
   },
   "outputs": [
    {
     "data": {
      "text/plain": [
       "array(['Wrestling', 'Athletics', 'Athletics', ..., 'Water Polo',\n",
       "       'Athletics', 'Basketball'], dtype=object)"
      ]
     },
     "execution_count": 13,
     "metadata": {},
     "output_type": "execute_result"
    }
   ],
   "source": [
    "y_pred"
   ]
  },
  {
   "cell_type": "code",
   "execution_count": 14,
   "metadata": {
    "collapsed": false
   },
   "outputs": [
    {
     "data": {
      "text/plain": [
       "array(['Judo', 'Athletics', 'Athletics', ..., 'Handball', 'Athletics',\n",
       "       'Basketball'], dtype=object)"
      ]
     },
     "execution_count": 14,
     "metadata": {},
     "output_type": "execute_result"
    }
   ],
   "source": [
    "y"
   ]
  },
  {
   "cell_type": "markdown",
   "metadata": {
    "collapsed": true
   },
   "source": [
    "Certain athletes have the same stats.  We did our analysis on points that we know the answer to. Now, we will take out the points we know by using Cross Validation.\n",
    "<br><br>\n",
    "***Accuracy Score:*** 18%"
   ]
  },
  {
   "cell_type": "code",
   "execution_count": 15,
   "metadata": {
    "collapsed": false
   },
   "outputs": [],
   "source": [
    "from sklearn.cross_validation import LeaveOneOut, cross_val_score\n",
    "\n",
    "loo = LeaveOneOut(len(y))\n",
    "c_score = cross_val_score(knn, X, y, cv=loo)"
   ]
  },
  {
   "cell_type": "code",
   "execution_count": 16,
   "metadata": {
    "collapsed": false
   },
   "outputs": [
    {
     "data": {
      "text/plain": [
       "array([ 0.,  1.,  0., ...,  0.,  0.,  1.])"
      ]
     },
     "execution_count": 16,
     "metadata": {},
     "output_type": "execute_result"
    }
   ],
   "source": [
    "c_score"
   ]
  },
  {
   "cell_type": "code",
   "execution_count": 17,
   "metadata": {
    "collapsed": false
   },
   "outputs": [
    {
     "data": {
      "text/plain": [
       "0.17946448329276388"
      ]
     },
     "execution_count": 17,
     "metadata": {},
     "output_type": "execute_result"
    }
   ],
   "source": [
    "(sum(c_score))/len(c_score)"
   ]
  },
  {
   "cell_type": "code",
   "execution_count": 18,
   "metadata": {
    "collapsed": false
   },
   "outputs": [
    {
     "data": {
      "text/plain": [
       "array([ 0.1880531 ,  0.19026549,  0.18141593,  0.15044248,  0.16814159,\n",
       "        0.16150442,  0.19358407,  0.17809735,  0.17497231,  0.1683278 ])"
      ]
     },
     "execution_count": 18,
     "metadata": {},
     "output_type": "execute_result"
    }
   ],
   "source": [
    "from sklearn.cross_validation import KFold\n",
    "\n",
    "FEATURE_COLS = ['age', 'height', 'weight']\n",
    "TARGET_COL = ['sport']\n",
    "\n",
    "Xtest = athletes[FEATURE_COLS].values\n",
    "ytest = athletes[TARGET_COL].values.ravel()\n",
    "\n",
    "# Create the model\n",
    "knntest = KNeighborsClassifier(n_neighbors=1, metric='euclidean');\n",
    "knntest.fit(Xtest, ytest);\n",
    "\n",
    "# Cross-validation\n",
    "loo = KFold(n=len(Xtest), n_folds=10);\n",
    "cross_val_score(knntest, Xtest, ytest, cv=loo)"
   ]
  },
  {
   "cell_type": "markdown",
   "metadata": {
    "collapsed": true
   },
   "source": [
    "We determine that we have to work on improving our accuracy.  Should we scale the features?  All between 0 and 1?  What other methods can we try?"
   ]
  },
  {
   "cell_type": "code",
   "execution_count": 1,
   "metadata": {
    "collapsed": true
   },
   "outputs": [],
   "source": [
    "#confusion matrix, saying this person belongs to this sport, and this is what we predicted\n",
    "#cross-val kfold and confusion matrix\n",
    "#What is my conclusion, how would i support it.\n",
    "#i can predict what sport they play based on this conclusion. What can i show to convince them\n",
    "#graphs or visuals to demonstrate that."
   ]
  },
  {
   "cell_type": "code",
   "execution_count": 2,
   "metadata": {
    "collapsed": true
   },
   "outputs": [],
   "source": [
    "#show cluster graph\n",
    "#2 dimensional plane, height and weight, age would be diameter (radius of circle).... color code each sport.\n",
    "#many many graphs"
   ]
  },
  {
   "cell_type": "code",
   "execution_count": null,
   "metadata": {
    "collapsed": true
   },
   "outputs": [],
   "source": []
  }
 ],
 "metadata": {
  "kernelspec": {
   "display_name": "IPython (Python 3)",
   "language": "python",
   "name": "python3"
  },
  "language_info": {
   "codemirror_mode": {
    "name": "ipython",
    "version": 3
   },
   "file_extension": ".py",
   "mimetype": "text/x-python",
   "name": "python",
   "nbconvert_exporter": "python",
   "pygments_lexer": "ipython3",
   "version": "3.5.1"
  }
 },
 "nbformat": 4,
 "nbformat_minor": 0
}
