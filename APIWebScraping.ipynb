{
 "cells": [
  {
   "cell_type": "markdown",
   "metadata": {},
   "source": [
    "# API's and Web Scraping"
   ]
  },
  {
   "cell_type": "markdown",
   "metadata": {},
   "source": [
    "This notebook demonstrates cases for gathering data from the internet. Below is an extraction of data from Wordnik, OkCupid, Google News, Yahoo Stocks, and Yelp.<br><br><br>\n",
    "***Wordnik:*** taking a look at the definitions provided for the word \"chair\""
   ]
  },
  {
   "cell_type": "code",
   "execution_count": 1,
   "metadata": {
    "collapsed": true
   },
   "outputs": [],
   "source": [
    "import requests\n",
    "\n",
    "WORDNIK_URL = 'http://api.wordnik.com/v4/word.json/chair/definitions?limit=200&includeRelated=true&useCanonical=false&includeTags=false&api_key=a2a73e7b926c924fad7001ca3111acd55af2ffabf50eb4ae5'\n",
    "response = requests.get(WORDNIK_URL)"
   ]
  },
  {
   "cell_type": "code",
   "execution_count": 2,
   "metadata": {
    "collapsed": false
   },
   "outputs": [
    {
     "data": {
      "text/plain": [
       "{'Content-Type': 'application/json; charset=utf-8', 'Wordnik-API-Version': '4.12.20', 'Connection': 'close', 'Access-Control-Allow-Headers': 'Origin, X-Atmosphere-tracking-id, X-Atmosphere-Framework, X-Cache-Date, Content-Type, X-Atmosphere-Transport, X-Remote, api_key, auth_token, *', 'Date': 'Sat, 04 Jun 2016 19:51:37 GMT', 'Access-Control-Request-Headers': 'Origin, X-Atmosphere-tracking-id, X-Atmosphere-Framework, X-Cache-Date, Content-Type, X-Atmosphere-Transport,  X-Remote, api_key, *', 'Access-Control-Allow-Methods': 'POST, GET, OPTIONS, PUT, DELETE', 'Access-Control-Allow-Origin': '*'}"
      ]
     },
     "execution_count": 2,
     "metadata": {},
     "output_type": "execute_result"
    }
   ],
   "source": [
    "response.headers"
   ]
  },
  {
   "cell_type": "code",
   "execution_count": 3,
   "metadata": {
    "collapsed": false
   },
   "outputs": [
    {
     "name": "stdout",
     "output_type": "stream",
     "text": [
      "<class 'list'>\n"
     ]
    }
   ],
   "source": [
    "definitions = response.json()\n",
    "print(type(definitions))"
   ]
  },
  {
   "cell_type": "code",
   "execution_count": 4,
   "metadata": {
    "collapsed": false
   },
   "outputs": [
    {
     "data": {
      "text/plain": [
       "'A piece of furniture consisting of a seat, legs, back, and often arms, designed to accommodate one person.'"
      ]
     },
     "execution_count": 4,
     "metadata": {},
     "output_type": "execute_result"
    }
   ],
   "source": [
    "definitions[0]['text']"
   ]
  },
  {
   "cell_type": "code",
   "execution_count": 5,
   "metadata": {
    "collapsed": false
   },
   "outputs": [
    {
     "name": "stdout",
     "output_type": "stream",
     "text": [
      "+ A piece of furniture consisting of a seat, legs, back, and often arms, designed to accommodate one person.\n",
      "+ A seat of office, authority, or dignity, such as that of a bishop.\n",
      "+ An office or position of authority, such as a professorship.\n",
      "+ A person who holds an office or a position of authority, such as one who presides over a meeting or administers a department of instruction at a college; a chairperson.\n",
      "+ The position of a player in an orchestra.\n",
      "+ Slang   The electric chair.\n",
      "+ A seat carried about on poles; a sedan chair.\n",
      "+ Any of several devices that serve to support or secure, such as a metal block that supports and holds railroad track in position.\n",
      "+ To install in a position of authority, especially as a presiding officer.\n",
      "+ To preside over as chairperson:  chair a meeting. \n"
     ]
    }
   ],
   "source": [
    "for definition in definitions:\n",
    "    print('+', definition['text'])"
   ]
  },
  {
   "cell_type": "markdown",
   "metadata": {},
   "source": [
    "   "
   ]
  },
  {
   "cell_type": "markdown",
   "metadata": {},
   "source": [
    "***OkCupid:*** personal information of one user within the postal code region of 90024"
   ]
  },
  {
   "cell_type": "code",
   "execution_count": 6,
   "metadata": {
    "collapsed": false
   },
   "outputs": [
    {
     "data": {
      "text/plain": [
       "{'lang': 'en',\n",
       " 'message': 'Ahh, Los Angeles.',\n",
       " 'query': '90024',\n",
       " 'results': [{'city_name': 'Los Angeles',\n",
       "   'country_code': 'US',\n",
       "   'country_iso_code': 'US',\n",
       "   'country_name': 'United States',\n",
       "   'display_state': 1,\n",
       "   'latitude': 34.06298,\n",
       "   'locid': 4233989,\n",
       "   'longitude': -118.43632,\n",
       "   'metro_area': 4480,\n",
       "   'nameid': 141547,\n",
       "   'popularity': 32321,\n",
       "   'postal_code': '90024',\n",
       "   'state_code': 'CA',\n",
       "   'state_name': 'California'}]}"
      ]
     },
     "execution_count": 6,
     "metadata": {},
     "output_type": "execute_result"
    }
   ],
   "source": [
    "OKC_ZIP_URL = 'https://www.okcupid.com/1/apitun/location/query?q=90024'\n",
    "\n",
    "request = requests.get(OKC_ZIP_URL)\n",
    "zipcode = request.json()\n",
    "zipcode"
   ]
  },
  {
   "cell_type": "markdown",
   "metadata": {},
   "source": [
    "   "
   ]
  },
  {
   "cell_type": "markdown",
   "metadata": {},
   "source": [
    "***Google News:*** titles of the top headlines of the day"
   ]
  },
  {
   "cell_type": "code",
   "execution_count": 7,
   "metadata": {
    "collapsed": true
   },
   "outputs": [],
   "source": [
    "import requests\n",
    "from bs4 import BeautifulSoup\n",
    "\n",
    "GOOGLE_URL = 'http://news.google.com'\n",
    "response = requests.get(GOOGLE_URL)"
   ]
  },
  {
   "cell_type": "code",
   "execution_count": 8,
   "metadata": {
    "collapsed": true
   },
   "outputs": [],
   "source": [
    "bs = BeautifulSoup(response.text, 'lxml')"
   ]
  },
  {
   "cell_type": "code",
   "execution_count": 9,
   "metadata": {
    "collapsed": false
   },
   "outputs": [
    {
     "name": "stdout",
     "output_type": "stream",
     "text": [
      "<class 'bs4.element.Tag'>\n",
      "<span class=\"titletext\">The Latest: Family spokesman says Ali died of septic shock</span>\n"
     ]
    },
    {
     "data": {
      "text/plain": [
       "'The Latest: Family spokesman says Ali died of septic shock'"
      ]
     },
     "execution_count": 9,
     "metadata": {},
     "output_type": "execute_result"
    }
   ],
   "source": [
    "print(type(bs.select('span.titletext')[0]))\n",
    "first_title = (bs.select('span.titletext')[0])\n",
    "print(first_title)\n",
    "first_title.get_text()"
   ]
  },
  {
   "cell_type": "code",
   "execution_count": 10,
   "metadata": {
    "collapsed": false
   },
   "outputs": [
    {
     "name": "stdout",
     "output_type": "stream",
     "text": [
      "+ The Latest: Family spokesman says Ali died of septic shock\n",
      "+ Muhammad Ali's Hometown of Louisville Honors the Late Boxer as 'Our Inspiration'\n",
      "+ 5 great Muhammad Ali pop-culture moments\n",
      "+ Muhammad Ali Dies at 74: Titan of Boxing and the 20th Century\n",
      "+ Live blog: Muhammad Ali dies age 74\n",
      "+ Trump on black supporter: 'Look at my African-American over here'\n",
      "+ Anti-Trump Voices Amplify on Internet, With Violent Results\n",
      "+ AP News in Brief at 11:04 pm EDT\n",
      "+ San Jose police chief defends officers accused of failing to protect Trump supporters from violence\n",
      "+ Mayor Liccardo, San Jose Police Issue New Statements Regarding Violence at Donald Trump Rally\n",
      "+ San Jose welcomes illegal immigrants but not Trump supporters\n",
      "+ Citizen Obama: How the president is campaigning for a philosophy, not just a candidate\n",
      "+ In France, are soldiers outside the Eiffel Tower and the Louvre really worth it?\n",
      "+ France floods claim three more lives as massive mop-up begins\n",
      "+ France Flooding Death Toll Rises to Four as Seine River Peaks in Paris\n"
     ]
    }
   ],
   "source": [
    "for title in bs.select('span.titletext')[0:15]:\n",
    "    print('+', title.get_text())"
   ]
  },
  {
   "cell_type": "markdown",
   "metadata": {},
   "source": [
    "   "
   ]
  },
  {
   "cell_type": "markdown",
   "metadata": {},
   "source": [
    "***Yahoo Stocks:*** Yahoo Inc. (YHOO) stock after hours trading price.<br> It begins at 4:15pm ET until 3:30pm ET the next day"
   ]
  },
  {
   "cell_type": "code",
   "execution_count": 11,
   "metadata": {
    "collapsed": true
   },
   "outputs": [],
   "source": [
    "YAHOO_STOCKS_URL = 'http://www.nasdaq.com/symbol/yhoo/after-hours'\n",
    "response = requests.get(YAHOO_STOCKS_URL)\n",
    "\n",
    "bs = BeautifulSoup(response.text, 'lxml')"
   ]
  },
  {
   "cell_type": "code",
   "execution_count": 12,
   "metadata": {
    "collapsed": false
   },
   "outputs": [
    {
     "name": "stdout",
     "output_type": "stream",
     "text": [
      "$36.60 *** unch *** \n"
     ]
    }
   ],
   "source": [
    "last_sale = bs.select('#qwidget_lastsale')[0].get_text()\n",
    "net_change = bs.select('#qwidget_netchange')[0].get_text()\n",
    "percent = bs.select('#qwidget_percent')[0].get_text()\n",
    "print(last_sale, '***', net_change, '***', percent)"
   ]
  },
  {
   "cell_type": "code",
   "execution_count": 13,
   "metadata": {
    "collapsed": false
   },
   "outputs": [
    {
     "data": {
      "text/plain": [
       "[<div class=\"qwidget-dollar\" id=\"qwidget_lastsale\">$36.60</div>,\n",
       " <div class=\"qwidget-dollar\"><div>*  </div></div>]"
      ]
     },
     "execution_count": 13,
     "metadata": {},
     "output_type": "execute_result"
    }
   ],
   "source": [
    "bs.select('.qwidget-dollar')"
   ]
  },
  {
   "cell_type": "markdown",
   "metadata": {},
   "source": [
    "   "
   ]
  },
  {
   "cell_type": "markdown",
   "metadata": {},
   "source": [
    "***Yelp:*** Searched for General Assembly in Santa Monica. Intent of extracting title, location, hours, description, photo, rating values."
   ]
  },
  {
   "cell_type": "code",
   "execution_count": 14,
   "metadata": {
    "collapsed": true
   },
   "outputs": [],
   "source": [
    "YELP_GA_URL = 'http://www.yelp.com/biz/general-assembly-santa-monica-santa-monica'\n",
    "response = requests.get(YELP_GA_URL)\n",
    "\n",
    "bs = BeautifulSoup(response.text, 'lxml')"
   ]
  },
  {
   "cell_type": "code",
   "execution_count": 15,
   "metadata": {
    "collapsed": false
   },
   "outputs": [
    {
     "data": {
      "text/plain": [
       "'General Assembly Santa Monica'"
      ]
     },
     "execution_count": 15,
     "metadata": {},
     "output_type": "execute_result"
    }
   ],
   "source": [
    "title = bs.select('h1.biz-page-title')[0].get_text().strip()\n",
    "title"
   ]
  },
  {
   "cell_type": "code",
   "execution_count": 16,
   "metadata": {
    "collapsed": true
   },
   "outputs": [],
   "source": [
    "title1 = bs.select('h1.biz-page-title')\n",
    "if len(title1) > 0:\n",
    "    title1 = title1[0].get_text().strip()"
   ]
  },
  {
   "cell_type": "code",
   "execution_count": 17,
   "metadata": {
    "collapsed": false
   },
   "outputs": [
    {
     "name": "stdout",
     "output_type": "stream",
     "text": [
      "\n",
      "        1520 2nd St, Santa Monica, CA 90401\n",
      "    \n"
     ]
    }
   ],
   "source": [
    "address_whatever = bs.select('address')\n",
    "address_str_w = address_whatever[0].get_text()\n",
    "print(address_str_w)"
   ]
  },
  {
   "cell_type": "code",
   "execution_count": 18,
   "metadata": {
    "collapsed": false
   },
   "outputs": [
    {
     "data": {
      "text/plain": [
       "[<span itemprop=\"streetAddress\">1520 2nd St</span>,\n",
       " <span itemprop=\"addressLocality\">Santa Monica</span>,\n",
       " <span itemprop=\"addressRegion\">CA</span>,\n",
       " <span itemprop=\"postalCode\">90401</span>]"
      ]
     },
     "execution_count": 18,
     "metadata": {},
     "output_type": "execute_result"
    }
   ],
   "source": [
    "address = bs.select('address > span')\n",
    "address"
   ]
  },
  {
   "cell_type": "code",
   "execution_count": 19,
   "metadata": {
    "collapsed": false
   },
   "outputs": [
    {
     "name": "stdout",
     "output_type": "stream",
     "text": [
      "1520 2nd St Santa Monica CA 90401 \n"
     ]
    }
   ],
   "source": [
    "address_str = ''\n",
    "for x in address:\n",
    "    address_str += (x.get_text() + ' ')\n",
    "print(address_str)"
   ]
  },
  {
   "cell_type": "code",
   "execution_count": 20,
   "metadata": {
    "collapsed": false
   },
   "outputs": [
    {
     "data": {
      "text/plain": [
       "'1520 2nd St Santa Monica CA 90401 '"
      ]
     },
     "execution_count": 20,
     "metadata": {},
     "output_type": "execute_result"
    }
   ],
   "source": [
    "\"\".join([x.get_text() + ' ' for x in address])"
   ]
  },
  {
   "cell_type": "code",
   "execution_count": 21,
   "metadata": {
    "collapsed": false
   },
   "outputs": [
    {
     "name": "stdout",
     "output_type": "stream",
     "text": [
      "[<address>\n",
      "        1520 2nd St, Santa Monica, CA 90401\n",
      "    </address>, <address itemprop=\"address\" itemscope=\"\" itemtype=\"http://schema.org/PostalAddress\">\n",
      "<span itemprop=\"streetAddress\">1520 2nd St</span><br/><span itemprop=\"addressLocality\">Santa Monica</span>, <span itemprop=\"addressRegion\">CA</span> <span itemprop=\"postalCode\">90401</span><br/><meta content=\"US\" itemprop=\"addressCountry\"/>\n",
      "</address>]\n",
      " \n",
      " \n",
      "<address>\n",
      "        1520 2nd St, Santa Monica, CA 90401\n",
      "    </address>\n"
     ]
    }
   ],
   "source": [
    "address_tag = bs.select('address')\n",
    "print(address_tag)\n",
    "print(' ')\n",
    "print(' ')\n",
    "print(address_tag[0])"
   ]
  },
  {
   "cell_type": "code",
   "execution_count": 22,
   "metadata": {
    "collapsed": false
   },
   "outputs": [
    {
     "data": {
      "text/plain": [
       "'1520 2nd St, Santa Monica, CA 90401'"
      ]
     },
     "execution_count": 22,
     "metadata": {},
     "output_type": "execute_result"
    }
   ],
   "source": [
    "address_tag = bs.select('address')\n",
    "better_address = address_tag[0].get_text().strip()\n",
    "better_address"
   ]
  },
  {
   "cell_type": "code",
   "execution_count": 23,
   "metadata": {
    "collapsed": false
   },
   "outputs": [
    {
     "data": {
      "text/plain": [
       "'10:00 am - 5:00 pm'"
      ]
     },
     "execution_count": 23,
     "metadata": {},
     "output_type": "execute_result"
    }
   ],
   "source": [
    "range_tag = bs.select('span.hour-range')\n",
    "hours = range_tag[0].get_text() if range_tag else '' #this has to be True\n",
    "hours"
   ]
  },
  {
   "cell_type": "code",
   "execution_count": 24,
   "metadata": {
    "collapsed": false
   },
   "outputs": [
    {
     "name": "stdout",
     "output_type": "stream",
     "text": [
      "10:00 am - 5:00 pm\n"
     ]
    }
   ],
   "source": [
    "if range_tag:\n",
    "    hours = range_tag[0].get_text()\n",
    "else:\n",
    "    hours = ''\n",
    "    \n",
    "print(hours)"
   ]
  },
  {
   "cell_type": "code",
   "execution_count": 25,
   "metadata": {
    "collapsed": false
   },
   "outputs": [
    {
     "name": "stdout",
     "output_type": "stream",
     "text": [
      "\n",
      "                \n",
      "\n",
      "    General Assembly's main campus in Santa Monica holds immersive courses, classes, workshops and events specializing in business, tech, and design with expert instructors from the top of their …\n",
      "\n",
      "            \n"
     ]
    }
   ],
   "source": [
    "business_desc = bs.select('div.js-from-biz-owner > p')\n",
    "desc = business_desc[0].get_text()\n",
    "print(desc)"
   ]
  },
  {
   "cell_type": "code",
   "execution_count": 26,
   "metadata": {
    "collapsed": false
   },
   "outputs": [],
   "source": [
    "#bs.select('body')[0].get_text(strip=True)"
   ]
  },
  {
   "cell_type": "code",
   "execution_count": 27,
   "metadata": {
    "collapsed": false
   },
   "outputs": [
    {
     "data": {
      "text/plain": [
       "<img alt=\"General Assembly Santa Monica - Santa Monica, CA, United States. SEO Class\" class=\"photo-box-img\" height=\"250\" src=\"https://s3-media2.fl.yelpcdn.com/bphoto/SDUTsNrXSPBlkTxv0_ZTsA/ls.jpg\" width=\"250\"/>"
      ]
     },
     "execution_count": 27,
     "metadata": {},
     "output_type": "execute_result"
    }
   ],
   "source": [
    "img = bs.select('img.photo-box-img')[0]\n",
    "img"
   ]
  },
  {
   "cell_type": "code",
   "execution_count": 28,
   "metadata": {
    "collapsed": false
   },
   "outputs": [
    {
     "data": {
      "text/plain": [
       "{'alt': 'General Assembly Santa Monica - Santa Monica, CA, United States. SEO Class',\n",
       " 'class': ['photo-box-img'],\n",
       " 'height': '250',\n",
       " 'src': 'https://s3-media2.fl.yelpcdn.com/bphoto/SDUTsNrXSPBlkTxv0_ZTsA/ls.jpg',\n",
       " 'width': '250'}"
      ]
     },
     "execution_count": 28,
     "metadata": {},
     "output_type": "execute_result"
    }
   ],
   "source": [
    "img.attrs"
   ]
  },
  {
   "cell_type": "code",
   "execution_count": 29,
   "metadata": {
    "collapsed": false
   },
   "outputs": [
    {
     "data": {
      "text/plain": [
       "'https://s3-media2.fl.yelpcdn.com/bphoto/SDUTsNrXSPBlkTxv0_ZTsA/ls.jpg'"
      ]
     },
     "execution_count": 29,
     "metadata": {},
     "output_type": "execute_result"
    }
   ],
   "source": [
    "img.attrs['src']"
   ]
  },
  {
   "cell_type": "code",
   "execution_count": 30,
   "metadata": {
    "collapsed": false
   },
   "outputs": [
    {
     "name": "stdout",
     "output_type": "stream",
     "text": [
      "+ https://s3-media2.fl.yelpcdn.com/bphoto/SDUTsNrXSPBlkTxv0_ZTsA/ls.jpg\n",
      "+ //s3-media2.fl.yelpcdn.com/photo/CxPXFeaelpIa6Z1u_eBDvw/30s.jpg\n",
      "+ https://s3-media4.fl.yelpcdn.com/bphoto/UAu1R-HTsRPiquF9RvoZng/ls.jpg\n",
      "+ //s3-media2.fl.yelpcdn.com/photo/CxPXFeaelpIa6Z1u_eBDvw/30s.jpg\n",
      "+ https://s3-media1.fl.yelpcdn.com/bphoto/cQyAvTG-bSRs3kuU5_Ds-g/ls.jpg\n",
      "+ //s3-media2.fl.yelpcdn.com/photo/CxPXFeaelpIa6Z1u_eBDvw/30s.jpg\n",
      "+ //s3-media3.fl.yelpcdn.com/photo/HPMM2p2n8v5UkUHtEXQRfw/60s.jpg\n",
      "+ //s3-media3.fl.yelpcdn.com/photo/svf8jo0t0l_EQoWtmzv2zQ/60s.jpg\n",
      "+ //s3-media3.fl.yelpcdn.com/photo/FMpISV9yKMxrUhVcV-Ktiw/60s.jpg\n",
      "+ //s3-media2.fl.yelpcdn.com/assets/srv0/yelp_styleguide/978c1bee49d7/assets/img/1x1.png\n",
      "+ //s3-media1.fl.yelpcdn.com/bphoto/-io-_fGRA5zHSbYF2G7hCg/348s.jpg\n",
      "+ //s3-media4.fl.yelpcdn.com/photo/X-TsbgRc48AwUXEX8iWORA/60s.jpg\n",
      "+ //s3-media2.fl.yelpcdn.com/assets/srv0/yelp_styleguide/978c1bee49d7/assets/img/1x1.png\n",
      "+ //s3-media3.fl.yelpcdn.com/bphoto/1OKu_UkYmoBkM85ACAGBrA/348s.jpg\n",
      "+ //s3-media2.fl.yelpcdn.com/assets/srv0/yelp_styleguide/978c1bee49d7/assets/img/1x1.png\n"
     ]
    }
   ],
   "source": [
    "imgs = bs.select('img.photo-box-img')[0:15]\n",
    "for img in imgs:\n",
    "    print ('+', img.attrs['src'])"
   ]
  },
  {
   "cell_type": "code",
   "execution_count": 31,
   "metadata": {
    "collapsed": false
   },
   "outputs": [
    {
     "name": "stdout",
     "output_type": "stream",
     "text": [
      "+ General Assembly Santa Monica - Santa Monica, CA, United States. SEO Class\n",
      "+ David P.\n",
      "+ General Assembly Santa Monica - Santa Monica, CA, United States. Growth Hacking Class !\n",
      "+ David P.\n",
      "+ General Assembly Santa Monica - Santa Monica, CA, United States. Growth Hacking Class !\n",
      "+ David P.\n",
      "+ Ben P.\n",
      "+ Cody A.\n",
      "+ Rumala S.\n",
      "+ General Assembly Santa Monica - Santa Monica, CA, United States\n",
      "+ General Assembly Santa Monica - Santa Monica, CA, United States\n",
      "+ Lisandra M.\n",
      "+ General Assembly Santa Monica - Santa Monica, CA, United States. The best teachers ever! #GALA #UXDI #UXdesign\n",
      "+ General Assembly Santa Monica - Santa Monica, CA, United States. The best teachers ever! #GALA #UXDI #UXdesign\n",
      "+ General Assembly Santa Monica - Santa Monica, CA, United States. Fun activities at GA: team work, collaboration, plan, strategy...\n",
      "+ General Assembly Santa Monica - Santa Monica, CA, United States. Fun activities at GA: team work, collaboration, plan, strategy...\n",
      "+ General Assembly Santa Monica - Santa Monica, CA, United States. Ux ptojects with real clients... Learning doing... #handson\n",
      "+ General Assembly Santa Monica - Santa Monica, CA, United States. Ux ptojects with real clients... Learning doing... #handson\n",
      "+ Ethan B.\n",
      "+ General Assembly Santa Monica - Santa Monica, CA, United States. Getting ready for an event!\n",
      "+ General Assembly Santa Monica - Santa Monica, CA, United States. Getting ready for an event!\n",
      "+ Joe S.\n",
      "+ General Assembly Santa Monica - Santa Monica, CA, United States. Final project detail from my final FEWD project.\n",
      "+ General Assembly Santa Monica - Santa Monica, CA, United States. Final project detail from my final FEWD project.\n",
      "+ General Assembly Santa Monica - Santa Monica, CA, United States. Final project detail from my final FEWD project.\n",
      "+ General Assembly Santa Monica - Santa Monica, CA, United States. Final project detail from my final FEWD project.\n",
      "+ General Assembly Santa Monica - Santa Monica, CA, United States. Graduation party is a networking option where you meet industry professionals and other recent graduates. A great confidence boost!\n",
      "+ General Assembly Santa Monica - Santa Monica, CA, United States. Graduation party is a networking option where you meet industry professionals and other recent graduates. A great confidence boost!\n",
      "+ Cri S.\n",
      "+ Alexis C.\n",
      "+ Ken S.\n",
      "+ Rahul S.\n",
      "+ Lee R.\n",
      "+ Sharron S.\n",
      "+ Randy B.\n",
      "+ Min R.\n",
      "+ Kevin G.\n",
      "+ Sharon W.\n",
      "+ Sarah L.\n",
      "+ Jaclyn M.\n",
      "+ Gene C.\n",
      "+ Rushi S.\n",
      "+ Amy M.\n",
      "+ General Assembly Downtown Los Angeles\n",
      "+ Codesmith\n",
      "+ MakerSquare\n"
     ]
    },
    {
     "data": {
      "text/html": [
       "<img src=\"https://s3-media2.fl.yelpcdn.com/bphoto/SDUTsNrXSPBlkTxv0_ZTsA/ls.jpg\"/>"
      ],
      "text/plain": [
       "<IPython.core.display.Image object>"
      ]
     },
     "execution_count": 31,
     "metadata": {},
     "output_type": "execute_result"
    }
   ],
   "source": [
    "from IPython.display import Image\n",
    "from IPython.core.display import HTML\n",
    "\n",
    "imgs = bs.select('img.photo-box-img')\n",
    "for img in imgs:\n",
    "    print('+', img.attrs['alt'])\n",
    "\n",
    "Image(url=imgs[0].attrs['src'])"
   ]
  },
  {
   "cell_type": "code",
   "execution_count": 32,
   "metadata": {
    "collapsed": false
   },
   "outputs": [
    {
     "data": {
      "text/plain": [
       "[<meta content=\"4.5\" itemprop=\"ratingValue\"/>,\n",
       " <meta content=\"5.0\" itemprop=\"ratingValue\"/>,\n",
       " <meta content=\"5.0\" itemprop=\"ratingValue\"/>,\n",
       " <meta content=\"5.0\" itemprop=\"ratingValue\"/>,\n",
       " <meta content=\"5.0\" itemprop=\"ratingValue\"/>,\n",
       " <meta content=\"5.0\" itemprop=\"ratingValue\"/>,\n",
       " <meta content=\"5.0\" itemprop=\"ratingValue\"/>,\n",
       " <meta content=\"1.0\" itemprop=\"ratingValue\"/>,\n",
       " <meta content=\"5.0\" itemprop=\"ratingValue\"/>,\n",
       " <meta content=\"5.0\" itemprop=\"ratingValue\"/>,\n",
       " <meta content=\"5.0\" itemprop=\"ratingValue\"/>,\n",
       " <meta content=\"5.0\" itemprop=\"ratingValue\"/>,\n",
       " <meta content=\"5.0\" itemprop=\"ratingValue\"/>,\n",
       " <meta content=\"4.0\" itemprop=\"ratingValue\"/>,\n",
       " <meta content=\"5.0\" itemprop=\"ratingValue\"/>,\n",
       " <meta content=\"5.0\" itemprop=\"ratingValue\"/>,\n",
       " <meta content=\"5.0\" itemprop=\"ratingValue\"/>,\n",
       " <meta content=\"5.0\" itemprop=\"ratingValue\"/>,\n",
       " <meta content=\"5.0\" itemprop=\"ratingValue\"/>,\n",
       " <meta content=\"1.0\" itemprop=\"ratingValue\"/>,\n",
       " <meta content=\"5.0\" itemprop=\"ratingValue\"/>]"
      ]
     },
     "execution_count": 32,
     "metadata": {},
     "output_type": "execute_result"
    }
   ],
   "source": [
    "bs.select('meta[itemprop=\"ratingValue\"]')"
   ]
  },
  {
   "cell_type": "code",
   "execution_count": 33,
   "metadata": {
    "collapsed": false
   },
   "outputs": [
    {
     "data": {
      "text/plain": [
       "[<meta content=\"4.5\" itemprop=\"ratingValue\"/>]"
      ]
     },
     "execution_count": 33,
     "metadata": {},
     "output_type": "execute_result"
    }
   ],
   "source": [
    "rating_tag = bs.select('div.biz-main-info meta[itemprop=\"ratingValue\"]')\n",
    "rating_tag"
   ]
  },
  {
   "cell_type": "code",
   "execution_count": 34,
   "metadata": {
    "collapsed": false
   },
   "outputs": [
    {
     "data": {
      "text/plain": [
       "'4.5'"
      ]
     },
     "execution_count": 34,
     "metadata": {},
     "output_type": "execute_result"
    }
   ],
   "source": [
    "rating_tag[0].attrs['content']"
   ]
  },
  {
   "cell_type": "markdown",
   "metadata": {},
   "source": [
    "   "
   ]
  },
  {
   "cell_type": "markdown",
   "metadata": {
    "collapsed": true
   },
   "source": [
    "Having the ability to obtain data by simply using an API, web scraping or with open data (without forgetting that certain sites have restrictions, or require permission), is significant in how we function, and how we can improve life today, with more innovation, growth and making change within our society."
   ]
  },
  {
   "cell_type": "code",
   "execution_count": null,
   "metadata": {
    "collapsed": true
   },
   "outputs": [],
   "source": []
  }
 ],
 "metadata": {
  "kernelspec": {
   "display_name": "IPython (Python 3)",
   "language": "python",
   "name": "python3"
  },
  "language_info": {
   "codemirror_mode": {
    "name": "ipython",
    "version": 3
   },
   "file_extension": ".py",
   "mimetype": "text/x-python",
   "name": "python",
   "nbconvert_exporter": "python",
   "pygments_lexer": "ipython3",
   "version": "3.5.1"
  }
 },
 "nbformat": 4,
 "nbformat_minor": 0
}
